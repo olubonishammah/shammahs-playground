{
 "cells": [
  {
   "cell_type": "code",
   "execution_count": null,
   "id": "c7eb23cc",
   "metadata": {},
   "outputs": [],
   "source": [
    "from apiclient.discovery import build\n",
    "from oauth2client.service_account import ServiceAccountCredentials\n",
    "import connect\n",
    "import json\n",
    "import pandas as pd\n",
    "import pandas_redshift as pr"
   ]
  },
  {
   "cell_type": "code",
   "execution_count": null,
   "id": "71589293-2de9-4c52-9be1-ce5d880a64f4",
   "metadata": {},
   "outputs": [],
   "source": [
    "SCOPES = ['https://www.googleapis.com/auth/analytics.readonly']\n",
    "KEY_FILE_LOCATION = 'ENTER json filename'\n",
    "VIEW_ID = 'ENTER GA ID'\n",
    "credentials = ServiceAccountCredentials.from_json_keyfile_name(KEY_FILE_LOCATION, SCOPES)\n",
    "service = build('analyticsreporting', 'v4', credentials=credentials)"
   ]
  },
  {
   "cell_type": "code",
   "execution_count": null,
   "id": "e6d066ea",
   "metadata": {
    "scrolled": true
   },
   "outputs": [],
   "source": [
    "DIMS = ['ga:date', 'ga:medium']\n",
    "METRICS = ['ga:newUsers',]\n",
    "\n",
    "response = service.reports().batchGet(\n",
    "    body={\n",
    "        'reportRequests': [\n",
    "        {\n",
    "          'viewId': VIEW_ID,\n",
    "          'dateRanges': [{'startDate': '2022-01-01', 'endDate': 'today'}],\n",
    "          'dimensions': [{'name': name} for name in DIMS],\n",
    "          'metrics': [{'expression': exp} for exp in METRICS],\n",
    "          'pageSize': 999999999\n",
    "        }]\n",
    "      }\n",
    "  ).execute()"
   ]
  },
  {
   "cell_type": "code",
   "execution_count": null,
   "id": "6fabfbe1",
   "metadata": {},
   "outputs": [],
   "source": [
    "data_dic = {f\"{i}\": [] for i in DIMS + METRICS}\n",
    "for report in response.get('reports', []):\n",
    "    rows = report.get('data', {}).get('rows', [])\n",
    "    for row in rows:\n",
    "        for i, key in enumerate(DIMS):\n",
    "            data_dic[key].append(row.get('dimensions', [])[i]) \n",
    "        dateRangeValues = row.get('metrics', [])\n",
    "        for values in dateRangeValues:\n",
    "            all_values = values.get('values', [])\n",
    "            for i, key in enumerate(METRICS):\n",
    "                data_dic[key].append(all_values[i])\n",
    "        \n",
    "df = pd.DataFrame(data=data_dic)\n",
    "df.columns = [col.split(':')[-1] for col in df.columns]"
   ]
  },
  {
   "cell_type": "code",
   "execution_count": null,
   "id": "d41b9749",
   "metadata": {},
   "outputs": [],
   "source": [
    "df['date'] = df['date'].astype('datetime64[ns]')\n",
    "df['newUsers'] = df['newUsers'].astype('int64')\n",
    "df.rename(columns = {'newUsers':'new_users'}, inplace = True)\n",
    "df\n",
    "df.to_csv('ga_new_users.csv',sep='\\t')"
   ]
  },
  {
   "cell_type": "code",
   "execution_count": null,
   "id": "23e51431",
   "metadata": {},
   "outputs": [],
   "source": [
    "unique_mediums = pd.DataFrame(df.medium.unique())  \n",
    "unique_mediums \n",
    "df.to_csv('unique_mediums.csv',sep='\\t')"
   ]
  }
 ],
 "metadata": {
  "kernelspec": {
   "display_name": "Python 3 (ipykernel)",
   "language": "python",
   "name": "python3"
  },
  "language_info": {
   "codemirror_mode": {
    "name": "ipython",
    "version": 3
   },
   "file_extension": ".py",
   "mimetype": "text/x-python",
   "name": "python",
   "nbconvert_exporter": "python",
   "pygments_lexer": "ipython3",
   "version": "3.9.12"
  }
 },
 "nbformat": 4,
 "nbformat_minor": 5
}
